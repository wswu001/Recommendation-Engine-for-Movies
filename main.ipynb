{
 "cells": [
  {
   "attachments": {},
   "cell_type": "markdown",
   "metadata": {},
   "source": [
    "# Movie Recommendation Engine"
   ]
  },
  {
   "attachments": {},
   "cell_type": "markdown",
   "metadata": {},
   "source": [
    "**Goal**\n",
    "1. Understand what is a recommendation engine and what kind of data is needed to conduct the analysis\n",
    "\n",
    "2. Understand three types of recommendation engine:\\\n",
    "    (1) Content-based recommendation system\\\n",
    "    (2) Collaborative-filtering\\\n",
    "    (3) Hybrid recommendation system\n",
    "    \n",
    "3. Leverage the above knowledge to build movie recommendation engines using different methods"
   ]
  },
  {
   "attachments": {},
   "cell_type": "markdown",
   "metadata": {},
   "source": [
    "**Data**\n",
    "\n",
    "To build a recommendation system, the data(feedback data) to be used is either explict or implicit. An explicit data directly has user's rating information while implicit data contains user's using behavior and actions which can also provide enough information for us to build a recommendation system.\n",
    "\n",
    "The data I'm using here is provided by Datacamp, which is an explicit dataset, having the information of user id, movie's titles and user's ratings. "
   ]
  },
  {
   "cell_type": "code",
   "execution_count": 14,
   "metadata": {},
   "outputs": [],
   "source": [
    "import pandas as pd\n",
    "import numpy as np\n",
    "import matplotlib.pyplot as plt\n",
    "from itertools import permutations"
   ]
  },
  {
   "cell_type": "code",
   "execution_count": 2,
   "metadata": {},
   "outputs": [
    {
     "name": "stdout",
     "output_type": "stream",
     "text": [
      "Dataset Overview: \n",
      "   userId  movieId  rating   timestamp             title  \\\n",
      "0       1        1     4.0   964982703  Toy Story (1995)   \n",
      "1       5        1     4.0   847434962  Toy Story (1995)   \n",
      "2       7        1     4.5  1106635946  Toy Story (1995)   \n",
      "3      15        1     2.5  1510577970  Toy Story (1995)   \n",
      "4      17        1     4.5  1305696483  Toy Story (1995)   \n",
      "\n",
      "                                        genres  \n",
      "0  Adventure|Animation|Children|Comedy|Fantasy  \n",
      "1  Adventure|Animation|Children|Comedy|Fantasy  \n",
      "2  Adventure|Animation|Children|Comedy|Fantasy  \n",
      "3  Adventure|Animation|Children|Comedy|Fantasy  \n",
      "4  Adventure|Animation|Children|Comedy|Fantasy  \n",
      "Data Columns: \n",
      "<class 'pandas.core.frame.DataFrame'>\n",
      "RangeIndex: 100836 entries, 0 to 100835\n",
      "Data columns (total 6 columns):\n",
      " #   Column     Non-Null Count   Dtype  \n",
      "---  ------     --------------   -----  \n",
      " 0   userId     100836 non-null  int64  \n",
      " 1   movieId    100836 non-null  int64  \n",
      " 2   rating     100836 non-null  float64\n",
      " 3   timestamp  100836 non-null  int64  \n",
      " 4   title      100836 non-null  object \n",
      " 5   genres     100836 non-null  object \n",
      "dtypes: float64(1), int64(3), object(2)\n",
      "memory usage: 4.6+ MB\n",
      "None\n",
      "# of Ratings and Genres:\n",
      "rating     10\n",
      "genres    951\n",
      "dtype: int64\n"
     ]
    }
   ],
   "source": [
    "ratings_df = pd.read_csv('user_ratings.csv')\n",
    "print('Dataset Overview: ')\n",
    "print(ratings_df.head(5))\n",
    "\n",
    "print('Data Columns: ')\n",
    "print(ratings_df.info())\n",
    "\n",
    "print('# of Ratings and Genres:')\n",
    "print(ratings_df[['rating', 'genres']].nunique())"
   ]
  },
  {
   "cell_type": "code",
   "execution_count": 3,
   "metadata": {},
   "outputs": [
    {
     "data": {
      "text/plain": [
       "0.5     1370\n",
       "1.0     2811\n",
       "1.5     1791\n",
       "2.0     7551\n",
       "2.5     5550\n",
       "3.0    20047\n",
       "3.5    13136\n",
       "4.0    26818\n",
       "4.5     8551\n",
       "5.0    13211\n",
       "Name: rating, dtype: int64"
      ]
     },
     "execution_count": 3,
     "metadata": {},
     "output_type": "execute_result"
    }
   ],
   "source": [
    "ratings_df['rating'].value_counts().sort_index()"
   ]
  },
  {
   "cell_type": "markdown",
   "metadata": {},
   "source": [
    "## Non-personalized Recommendations"
   ]
  },
  {
   "attachments": {},
   "cell_type": "markdown",
   "metadata": {},
   "source": [
    "### By the popularity"
   ]
  },
  {
   "cell_type": "code",
   "execution_count": 4,
   "metadata": {},
   "outputs": [
    {
     "name": "stdout",
     "output_type": "stream",
     "text": [
      "Index(['Forrest Gump (1994)', 'Shawshank Redemption, The (1994)',\n",
      "       'Pulp Fiction (1994)', 'Silence of the Lambs, The (1991)',\n",
      "       'Matrix, The (1999)'],\n",
      "      dtype='object')\n"
     ]
    }
   ],
   "source": [
    "# Count the occurence of each movie title\n",
    "movie_popularity = ratings_df['title'].value_counts()\n",
    "\n",
    "# Obtain the top five common movies\n",
    "print(movie_popularity.head(5).index)"
   ]
  },
  {
   "attachments": {},
   "cell_type": "markdown",
   "metadata": {},
   "source": [
    "The initial analysis tells us that the movie 'Forrest Gump (1994)' is the most rated movie among the entire dataset. To get a more accurate recommendation, explicit data column 'rating' is used in the next step."
   ]
  },
  {
   "attachments": {},
   "cell_type": "markdown",
   "metadata": {},
   "source": [
    "### By the average ratings"
   ]
  },
  {
   "cell_type": "code",
   "execution_count": 5,
   "metadata": {},
   "outputs": [
    {
     "data": {
      "text/html": [
       "<div>\n",
       "<style scoped>\n",
       "    .dataframe tbody tr th:only-of-type {\n",
       "        vertical-align: middle;\n",
       "    }\n",
       "\n",
       "    .dataframe tbody tr th {\n",
       "        vertical-align: top;\n",
       "    }\n",
       "\n",
       "    .dataframe thead th {\n",
       "        text-align: right;\n",
       "    }\n",
       "</style>\n",
       "<table border=\"1\" class=\"dataframe\">\n",
       "  <thead>\n",
       "    <tr style=\"text-align: right;\">\n",
       "      <th></th>\n",
       "      <th>rating</th>\n",
       "    </tr>\n",
       "    <tr>\n",
       "      <th>title</th>\n",
       "      <th></th>\n",
       "    </tr>\n",
       "  </thead>\n",
       "  <tbody>\n",
       "    <tr>\n",
       "      <th>Gena the Crocodile (1969)</th>\n",
       "      <td>5.0</td>\n",
       "    </tr>\n",
       "    <tr>\n",
       "      <th>True Stories (1986)</th>\n",
       "      <td>5.0</td>\n",
       "    </tr>\n",
       "    <tr>\n",
       "      <th>Cosmic Scrat-tastrophe (2015)</th>\n",
       "      <td>5.0</td>\n",
       "    </tr>\n",
       "    <tr>\n",
       "      <th>Love and Pigeons (1985)</th>\n",
       "      <td>5.0</td>\n",
       "    </tr>\n",
       "    <tr>\n",
       "      <th>Red Sorghum (Hong gao liang) (1987)</th>\n",
       "      <td>5.0</td>\n",
       "    </tr>\n",
       "  </tbody>\n",
       "</table>\n",
       "</div>"
      ],
      "text/plain": [
       "                                     rating\n",
       "title                                      \n",
       "Gena the Crocodile (1969)               5.0\n",
       "True Stories (1986)                     5.0\n",
       "Cosmic Scrat-tastrophe (2015)           5.0\n",
       "Love and Pigeons (1985)                 5.0\n",
       "Red Sorghum (Hong gao liang) (1987)     5.0"
      ]
     },
     "execution_count": 5,
     "metadata": {},
     "output_type": "execute_result"
    }
   ],
   "source": [
    "# Find the mean of the ratings of each title\n",
    "avg_ratings_df = ratings_df[['title','rating']].groupby('title').mean()\n",
    "\n",
    "# Sort the average ratings from highest to lowest by rating\n",
    "avg_ratings_df.sort_values(by='rating', ascending=False).head(5)"
   ]
  },
  {
   "attachments": {},
   "cell_type": "markdown",
   "metadata": {},
   "source": [
    "After finding the average rating in given to each title, the result was showing above. However, since not every movies were rated by the same amount of people, the result might be affected by the number of user who had rated on the movie, that is in other words, the data might be affected by skewness. Therefore, in the next step, the recommendaion is going to be improved by setting the thredshold and reducing the skewness of the data."
   ]
  },
  {
   "cell_type": "code",
   "execution_count": 6,
   "metadata": {},
   "outputs": [
    {
     "data": {
      "text/html": [
       "<div>\n",
       "<style scoped>\n",
       "    .dataframe tbody tr th:only-of-type {\n",
       "        vertical-align: middle;\n",
       "    }\n",
       "\n",
       "    .dataframe tbody tr th {\n",
       "        vertical-align: top;\n",
       "    }\n",
       "\n",
       "    .dataframe thead th {\n",
       "        text-align: right;\n",
       "    }\n",
       "</style>\n",
       "<table border=\"1\" class=\"dataframe\">\n",
       "  <thead>\n",
       "    <tr style=\"text-align: right;\">\n",
       "      <th></th>\n",
       "      <th>rating</th>\n",
       "    </tr>\n",
       "    <tr>\n",
       "      <th>title</th>\n",
       "      <th></th>\n",
       "    </tr>\n",
       "  </thead>\n",
       "  <tbody>\n",
       "    <tr>\n",
       "      <th>Shawshank Redemption, The (1994)</th>\n",
       "      <td>4.429022</td>\n",
       "    </tr>\n",
       "    <tr>\n",
       "      <th>Godfather, The (1972)</th>\n",
       "      <td>4.289062</td>\n",
       "    </tr>\n",
       "    <tr>\n",
       "      <th>Fight Club (1999)</th>\n",
       "      <td>4.272936</td>\n",
       "    </tr>\n",
       "    <tr>\n",
       "      <th>Cool Hand Luke (1967)</th>\n",
       "      <td>4.271930</td>\n",
       "    </tr>\n",
       "    <tr>\n",
       "      <th>Dr. Strangelove or: How I Learned to Stop Worrying and Love the Bomb (1964)</th>\n",
       "      <td>4.268041</td>\n",
       "    </tr>\n",
       "  </tbody>\n",
       "</table>\n",
       "</div>"
      ],
      "text/plain": [
       "                                                      rating\n",
       "title                                                       \n",
       "Shawshank Redemption, The (1994)                    4.429022\n",
       "Godfather, The (1972)                               4.289062\n",
       "Fight Club (1999)                                   4.272936\n",
       "Cool Hand Luke (1967)                               4.271930\n",
       "Dr. Strangelove or: How I Learned to Stop Worry...  4.268041"
      ]
     },
     "execution_count": 6,
     "metadata": {},
     "output_type": "execute_result"
    }
   ],
   "source": [
    "# Create a list of only movies appearing > 50 times in the dataset\n",
    "movie_popularity = ratings_df['title'].value_counts()\n",
    "popular_movies = movie_popularity[movie_popularity.values>50].index\n",
    "\n",
    "# Filter the popular movies from original data\n",
    "popular_movies_rakings = ratings_df[ratings_df['title'].isin(popular_movies)]\n",
    "\n",
    "# Find the top 5 movies base on their average ratings\n",
    "popular_movies_rakings[['title','rating']].groupby('title').mean().sort_values(by='rating', ascending=False).head(5)"
   ]
  },
  {
   "attachments": {},
   "cell_type": "markdown",
   "metadata": {},
   "source": [
    "### By finding all pairs of movies"
   ]
  },
  {
   "cell_type": "code",
   "execution_count": 18,
   "metadata": {},
   "outputs": [
    {
     "name": "stdout",
     "output_type": "stream",
     "text": [
      "                   movie_a                           movie_b\n",
      "0         Toy Story (1995)           Grumpier Old Men (1995)\n",
      "1         Toy Story (1995)                       Heat (1995)\n",
      "2         Toy Story (1995)       Seven (a.k.a. Se7en) (1995)\n",
      "3         Toy Story (1995)        Usual Suspects, The (1995)\n",
      "4         Toy Story (1995)        From Dusk Till Dawn (1996)\n",
      "...                    ...                               ...\n",
      "60793295         31 (2016)                 Gen-X Cops (1999)\n",
      "60793296         31 (2016)                  Bloodmoon (1997)\n",
      "60793297         31 (2016)  Sympathy for the Underdog (1971)\n",
      "60793298         31 (2016)                     Hazard (2005)\n",
      "60793299         31 (2016)                Blair Witch (2016)\n",
      "\n",
      "[60793300 rows x 2 columns]\n"
     ]
    }
   ],
   "source": [
    "# create a function to find all permutations of movie pairs\n",
    "def find_movie_pairs(x):\n",
    "    pairs = pd.DataFrame(list(permutations(x,2)), columns = ['movie_a', 'movie_b'])\n",
    "    return pairs\n",
    "\n",
    "# apply the function to the dataset grouping by userId\n",
    "movie_combinations = ratings_df.groupby('userId')['title'].apply(find_movie_pairs).reset_index(drop = True)\n",
    "print(movie_combinations)"
   ]
  },
  {
   "cell_type": "code",
   "execution_count": 21,
   "metadata": {},
   "outputs": [
    {
     "name": "stdout",
     "output_type": "stream",
     "text": [
      "                                            movie_a  \\\n",
      "0                                        '71 (2014)   \n",
      "1                                        '71 (2014)   \n",
      "2                                        '71 (2014)   \n",
      "3                                        '71 (2014)   \n",
      "4                                        '71 (2014)   \n",
      "...                                             ...   \n",
      "26309176  À nous la liberté (Freedom for Us) (1931)   \n",
      "26309177  À nous la liberté (Freedom for Us) (1931)   \n",
      "26309178  À nous la liberté (Freedom for Us) (1931)   \n",
      "26309179  À nous la liberté (Freedom for Us) (1931)   \n",
      "26309180  À nous la liberté (Freedom for Us) (1931)   \n",
      "\n",
      "                                             movie_b  size  \n",
      "0                        (500) Days of Summer (2009)     1  \n",
      "1                         10 Cloverfield Lane (2016)     1  \n",
      "2                                   127 Hours (2010)     1  \n",
      "3         13 Assassins (Jûsan-nin no shikaku) (2010)     1  \n",
      "4                                    13 Hours (2016)     1  \n",
      "...                                              ...   ...  \n",
      "26309176                               Willow (1988)     1  \n",
      "26309177  Willy Wonka & the Chocolate Factory (1971)     1  \n",
      "26309178                    Wizard of Oz, The (1939)     1  \n",
      "26309179         World According to Garp, The (1982)     1  \n",
      "26309180       X-Files: Fight the Future, The (1998)     1  \n",
      "\n",
      "[26309181 rows x 3 columns]\n"
     ]
    }
   ],
   "source": [
    "# Calculate the frequency of occurence for each pair\n",
    "combination_counts = movie_combinations.groupby(['movie_a','movie_b']).size()\n",
    "combination_counts_df = combination_counts.to_frame(name = 'size').reset_index()\n",
    "print(combination_counts_df)"
   ]
  },
  {
   "cell_type": "code",
   "execution_count": 40,
   "metadata": {},
   "outputs": [
    {
     "data": {
      "image/png": "[encoded data removed]",
      "text/plain": [
       "<Figure size 720x432 with 1 Axes>"
      ]
     },
     "metadata": {
      "needs_background": "light"
     },
     "output_type": "display_data"
    }
   ],
   "source": [
    "# Take movie 'Willy Wonka & the Chocolate Factory' as example\n",
    "\n",
    "# Sort the counts of pairs from higest to lowest\n",
    "pair_counts_sorted = combination_counts_df.sort_values(by='size', ascending=False)\n",
    "\n",
    "# Find the movies most frequently watched by people who watch The Chocolate Factory\n",
    "Choc_df = pair_counts_sorted[pair_counts_sorted['movie_a']== 'Willy Wonka & the Chocolate Factory (1971)']\n",
    "\n",
    "# Plot the result\n",
    "Choc_df.head(20).plot.barh(x='movie_b', figsize = (10,6))\n",
    "plt.gca().invert_yaxis()\n",
    "plt.title('If you watch Willy Wonka & the Chocolate Factory, you may want to watch...')\n",
    "plt.ylabel('Recommended movies')\n",
    "plt.show()"
   ]
  }
 ],
 "metadata": {
  "kernelspec": {
   "display_name": "base",
   "language": "python",
   "name": "python3"
  },
  "language_info": {
   "codemirror_mode": {
    "name": "ipython",
    "version": 3
   },
   "file_extension": ".py",
   "mimetype": "text/x-python",
   "name": "python",
   "nbconvert_exporter": "python",
   "pygments_lexer": "ipython3",
   "version": "3.9.7"
  },
  "orig_nbformat": 4,
  "vscode": {
   "interpreter": {
    "hash": "16485c9d48b67492f4a07c611156201f3ef2dc60b9750633e8629682e3781025"
   }
  }
 },
 "nbformat": 4,
 "nbformat_minor": 2
}
